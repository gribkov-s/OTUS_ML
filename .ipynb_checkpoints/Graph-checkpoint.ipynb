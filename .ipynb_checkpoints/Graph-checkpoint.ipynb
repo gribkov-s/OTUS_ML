{
 "cells": [
  {
   "cell_type": "code",
   "execution_count": 1,
   "metadata": {},
   "outputs": [],
   "source": [
    "\n",
    "import networkx as nx\n",
    "from networkx.readwrite import json_graph\n",
    "from networkx.algorithms import community\n",
    "from networkx.drawing.nx_agraph import write_dot, graphviz_layout\n",
    "\n",
    "from collections import Counter\n",
    "import numpy as np\n",
    "import pandas as pd\n",
    "import matplotlib.pyplot as plt\n",
    "%matplotlib inline"
   ]
  },
  {
   "cell_type": "code",
   "execution_count": 2,
   "metadata": {},
   "outputs": [],
   "source": [
    "#get data\n",
    "\n",
    "data_events = pd.read_csv('/home/dataengineer/OTUS_ML/data/events_US_air_traffic_GMT-1801-fbea7e.txt', sep=\" \")\n",
    "data_airports = pd.read_csv('/home/dataengineer/OTUS_ML/data/US_airport_id_info-1801-c808b0.csv')\n",
    "\n",
    "data = data_events.merge(data_airports[['id', 'airport name']], left_on='Source', right_on='id')\n",
    "data = data.merge(data_airports[['id', 'airport name']], left_on='Destination', right_on='id')\n",
    "data = data.drop(['Source', 'Destination', 'id_x', 'id_y'], axis=1)\n",
    "data.columns = ['StartTime', 'EndTime', 'Duration', 'Source', 'Destination']"
   ]
  },
  {
   "cell_type": "code",
   "execution_count": 3,
   "metadata": {},
   "outputs": [
    {
     "data": {
      "text/html": [
       "<div>\n",
       "<style scoped>\n",
       "    .dataframe tbody tr th:only-of-type {\n",
       "        vertical-align: middle;\n",
       "    }\n",
       "\n",
       "    .dataframe tbody tr th {\n",
       "        vertical-align: top;\n",
       "    }\n",
       "\n",
       "    .dataframe thead th {\n",
       "        text-align: right;\n",
       "    }\n",
       "</style>\n",
       "<table border=\"1\" class=\"dataframe\">\n",
       "  <thead>\n",
       "    <tr style=\"text-align: right;\">\n",
       "      <th></th>\n",
       "      <th>StartTime</th>\n",
       "      <th>EndTime</th>\n",
       "      <th>Duration</th>\n",
       "      <th>Source</th>\n",
       "      <th>Destination</th>\n",
       "    </tr>\n",
       "  </thead>\n",
       "  <tbody>\n",
       "    <tr>\n",
       "      <th>0</th>\n",
       "      <td>1229286900</td>\n",
       "      <td>1229291520</td>\n",
       "      <td>4620</td>\n",
       "      <td>Lehigh Valley Intl</td>\n",
       "      <td>Cleveland Hopkins Intl</td>\n",
       "    </tr>\n",
       "    <tr>\n",
       "      <th>1</th>\n",
       "      <td>1229272800</td>\n",
       "      <td>1229277300</td>\n",
       "      <td>4500</td>\n",
       "      <td>Lehigh Valley Intl</td>\n",
       "      <td>Cleveland Hopkins Intl</td>\n",
       "    </tr>\n",
       "    <tr>\n",
       "      <th>2</th>\n",
       "      <td>1229346600</td>\n",
       "      <td>1229351100</td>\n",
       "      <td>4500</td>\n",
       "      <td>Lehigh Valley Intl</td>\n",
       "      <td>Cleveland Hopkins Intl</td>\n",
       "    </tr>\n",
       "    <tr>\n",
       "      <th>3</th>\n",
       "      <td>1229333400</td>\n",
       "      <td>1229338320</td>\n",
       "      <td>4920</td>\n",
       "      <td>Lehigh Valley Intl</td>\n",
       "      <td>Cleveland Hopkins Intl</td>\n",
       "    </tr>\n",
       "    <tr>\n",
       "      <th>4</th>\n",
       "      <td>1229373300</td>\n",
       "      <td>1229377920</td>\n",
       "      <td>4620</td>\n",
       "      <td>Lehigh Valley Intl</td>\n",
       "      <td>Cleveland Hopkins Intl</td>\n",
       "    </tr>\n",
       "    <tr>\n",
       "      <th>...</th>\n",
       "      <td>...</td>\n",
       "      <td>...</td>\n",
       "      <td>...</td>\n",
       "      <td>...</td>\n",
       "      <td>...</td>\n",
       "    </tr>\n",
       "    <tr>\n",
       "      <th>180187</th>\n",
       "      <td>1229998500</td>\n",
       "      <td>1230002100</td>\n",
       "      <td>3600</td>\n",
       "      <td>Salt Lake City Intl</td>\n",
       "      <td>Magic Valley Regional Airport</td>\n",
       "    </tr>\n",
       "    <tr>\n",
       "      <th>180188</th>\n",
       "      <td>1230036900</td>\n",
       "      <td>1230040920</td>\n",
       "      <td>4020</td>\n",
       "      <td>Salt Lake City Intl</td>\n",
       "      <td>Magic Valley Regional Airport</td>\n",
       "    </tr>\n",
       "    <tr>\n",
       "      <th>180189</th>\n",
       "      <td>1230049800</td>\n",
       "      <td>1230053880</td>\n",
       "      <td>4080</td>\n",
       "      <td>Salt Lake City Intl</td>\n",
       "      <td>Magic Valley Regional Airport</td>\n",
       "    </tr>\n",
       "    <tr>\n",
       "      <th>180190</th>\n",
       "      <td>1230071400</td>\n",
       "      <td>1230075240</td>\n",
       "      <td>3840</td>\n",
       "      <td>Salt Lake City Intl</td>\n",
       "      <td>Magic Valley Regional Airport</td>\n",
       "    </tr>\n",
       "    <tr>\n",
       "      <th>180191</th>\n",
       "      <td>1230084900</td>\n",
       "      <td>1230088500</td>\n",
       "      <td>3600</td>\n",
       "      <td>Salt Lake City Intl</td>\n",
       "      <td>Magic Valley Regional Airport</td>\n",
       "    </tr>\n",
       "  </tbody>\n",
       "</table>\n",
       "<p>180192 rows × 5 columns</p>\n",
       "</div>"
      ],
      "text/plain": [
       "         StartTime     EndTime  Duration               Source  \\\n",
       "0       1229286900  1229291520      4620   Lehigh Valley Intl   \n",
       "1       1229272800  1229277300      4500   Lehigh Valley Intl   \n",
       "2       1229346600  1229351100      4500   Lehigh Valley Intl   \n",
       "3       1229333400  1229338320      4920   Lehigh Valley Intl   \n",
       "4       1229373300  1229377920      4620   Lehigh Valley Intl   \n",
       "...            ...         ...       ...                  ...   \n",
       "180187  1229998500  1230002100      3600  Salt Lake City Intl   \n",
       "180188  1230036900  1230040920      4020  Salt Lake City Intl   \n",
       "180189  1230049800  1230053880      4080  Salt Lake City Intl   \n",
       "180190  1230071400  1230075240      3840  Salt Lake City Intl   \n",
       "180191  1230084900  1230088500      3600  Salt Lake City Intl   \n",
       "\n",
       "                          Destination  \n",
       "0              Cleveland Hopkins Intl  \n",
       "1              Cleveland Hopkins Intl  \n",
       "2              Cleveland Hopkins Intl  \n",
       "3              Cleveland Hopkins Intl  \n",
       "4              Cleveland Hopkins Intl  \n",
       "...                               ...  \n",
       "180187  Magic Valley Regional Airport  \n",
       "180188  Magic Valley Regional Airport  \n",
       "180189  Magic Valley Regional Airport  \n",
       "180190  Magic Valley Regional Airport  \n",
       "180191  Magic Valley Regional Airport  \n",
       "\n",
       "[180192 rows x 5 columns]"
      ]
     },
     "execution_count": 3,
     "metadata": {},
     "output_type": "execute_result"
    }
   ],
   "source": [
    "data"
   ]
  },
  {
   "cell_type": "code",
   "execution_count": 4,
   "metadata": {},
   "outputs": [],
   "source": [
    "#get data for graph\n",
    "\n",
    "data_links = data.groupby(['Source', 'Destination']).agg(\n",
    "                value = pd.NamedAgg(column = 'StartTime', aggfunc = 'count'),\n",
    "                mean_duration = pd.NamedAgg(column = 'Duration', aggfunc = 'mean')).reset_index()"
   ]
  },
  {
   "cell_type": "code",
   "execution_count": 5,
   "metadata": {},
   "outputs": [
    {
     "data": {
      "text/html": [
       "<div>\n",
       "<style scoped>\n",
       "    .dataframe tbody tr th:only-of-type {\n",
       "        vertical-align: middle;\n",
       "    }\n",
       "\n",
       "    .dataframe tbody tr th {\n",
       "        vertical-align: top;\n",
       "    }\n",
       "\n",
       "    .dataframe thead th {\n",
       "        text-align: right;\n",
       "    }\n",
       "</style>\n",
       "<table border=\"1\" class=\"dataframe\">\n",
       "  <thead>\n",
       "    <tr style=\"text-align: right;\">\n",
       "      <th></th>\n",
       "      <th>Source</th>\n",
       "      <th>Destination</th>\n",
       "      <th>value</th>\n",
       "      <th>mean_duration</th>\n",
       "    </tr>\n",
       "  </thead>\n",
       "  <tbody>\n",
       "    <tr>\n",
       "      <th>0</th>\n",
       "      <td>Abilene Rgnl</td>\n",
       "      <td>Dallas Fort Worth Intl</td>\n",
       "      <td>69</td>\n",
       "      <td>3256.521739</td>\n",
       "    </tr>\n",
       "    <tr>\n",
       "      <th>1</th>\n",
       "      <td>Abraham Lincoln Capital</td>\n",
       "      <td>Chicago Ohare Intl</td>\n",
       "      <td>33</td>\n",
       "      <td>3689.090909</td>\n",
       "    </tr>\n",
       "    <tr>\n",
       "      <th>2</th>\n",
       "      <td>Adak Airport</td>\n",
       "      <td>Ted Stevens Anchorage Intl</td>\n",
       "      <td>3</td>\n",
       "      <td>9960.000000</td>\n",
       "    </tr>\n",
       "    <tr>\n",
       "      <th>3</th>\n",
       "      <td>Adams Fld</td>\n",
       "      <td>Baltimore Washington Intl</td>\n",
       "      <td>10</td>\n",
       "      <td>8100.000000</td>\n",
       "    </tr>\n",
       "    <tr>\n",
       "      <th>4</th>\n",
       "      <td>Adams Fld</td>\n",
       "      <td>Charlotte Douglas Intl</td>\n",
       "      <td>2</td>\n",
       "      <td>6600.000000</td>\n",
       "    </tr>\n",
       "    <tr>\n",
       "      <th>...</th>\n",
       "      <td>...</td>\n",
       "      <td>...</td>\n",
       "      <td>...</td>\n",
       "      <td>...</td>\n",
       "    </tr>\n",
       "    <tr>\n",
       "      <th>4147</th>\n",
       "      <td>Yeager</td>\n",
       "      <td>Hartsfield Jackson Atlanta Intl</td>\n",
       "      <td>34</td>\n",
       "      <td>5068.235294</td>\n",
       "    </tr>\n",
       "    <tr>\n",
       "      <th>4148</th>\n",
       "      <td>Yellowstone Rgnl</td>\n",
       "      <td>Denver Intl</td>\n",
       "      <td>10</td>\n",
       "      <td>6720.000000</td>\n",
       "    </tr>\n",
       "    <tr>\n",
       "      <th>4149</th>\n",
       "      <td>Yellowstone Rgnl</td>\n",
       "      <td>Salt Lake City Intl</td>\n",
       "      <td>19</td>\n",
       "      <td>4320.000000</td>\n",
       "    </tr>\n",
       "    <tr>\n",
       "      <th>4150</th>\n",
       "      <td>Yuma Mcas Yuma Intl</td>\n",
       "      <td>Los Angeles Intl</td>\n",
       "      <td>30</td>\n",
       "      <td>4696.000000</td>\n",
       "    </tr>\n",
       "    <tr>\n",
       "      <th>4151</th>\n",
       "      <td>Yuma Mcas Yuma Intl</td>\n",
       "      <td>Phoenix Sky Harbor Intl</td>\n",
       "      <td>47</td>\n",
       "      <td>3785.106383</td>\n",
       "    </tr>\n",
       "  </tbody>\n",
       "</table>\n",
       "<p>4152 rows × 4 columns</p>\n",
       "</div>"
      ],
      "text/plain": [
       "                       Source                      Destination  value  \\\n",
       "0                Abilene Rgnl           Dallas Fort Worth Intl     69   \n",
       "1     Abraham Lincoln Capital               Chicago Ohare Intl     33   \n",
       "2                Adak Airport       Ted Stevens Anchorage Intl      3   \n",
       "3                   Adams Fld        Baltimore Washington Intl     10   \n",
       "4                   Adams Fld           Charlotte Douglas Intl      2   \n",
       "...                       ...                              ...    ...   \n",
       "4147                   Yeager  Hartsfield Jackson Atlanta Intl     34   \n",
       "4148         Yellowstone Rgnl                      Denver Intl     10   \n",
       "4149         Yellowstone Rgnl              Salt Lake City Intl     19   \n",
       "4150      Yuma Mcas Yuma Intl                 Los Angeles Intl     30   \n",
       "4151      Yuma Mcas Yuma Intl          Phoenix Sky Harbor Intl     47   \n",
       "\n",
       "      mean_duration  \n",
       "0       3256.521739  \n",
       "1       3689.090909  \n",
       "2       9960.000000  \n",
       "3       8100.000000  \n",
       "4       6600.000000  \n",
       "...             ...  \n",
       "4147    5068.235294  \n",
       "4148    6720.000000  \n",
       "4149    4320.000000  \n",
       "4150    4696.000000  \n",
       "4151    3785.106383  \n",
       "\n",
       "[4152 rows x 4 columns]"
      ]
     },
     "execution_count": 5,
     "metadata": {},
     "output_type": "execute_result"
    }
   ],
   "source": [
    "data_links"
   ]
  },
  {
   "cell_type": "code",
   "execution_count": 6,
   "metadata": {},
   "outputs": [],
   "source": [
    "#get graph\n",
    "\n",
    "G = nx.from_pandas_edgelist(data_links, source = 'Source' , target = 'Destination', edge_attr = True, create_using=nx.DiGraph)"
   ]
  },
  {
   "cell_type": "code",
   "execution_count": 7,
   "metadata": {},
   "outputs": [
    {
     "data": {
      "text/plain": [
       "279"
      ]
     },
     "execution_count": 7,
     "metadata": {},
     "output_type": "execute_result"
    }
   ],
   "source": [
    "G.number_of_nodes()"
   ]
  },
  {
   "cell_type": "code",
   "execution_count": 8,
   "metadata": {},
   "outputs": [
    {
     "data": {
      "text/plain": [
       "4152"
      ]
     },
     "execution_count": 8,
     "metadata": {},
     "output_type": "execute_result"
    }
   ],
   "source": [
    "G.number_of_edges()"
   ]
  },
  {
   "cell_type": "code",
   "execution_count": 9,
   "metadata": {},
   "outputs": [
    {
     "data": {
      "image/png": "[encoded data removed]",
      "text/plain": [
       "<Figure size 432x288 with 1 Axes>"
      ]
     },
     "metadata": {},
     "output_type": "display_data"
    }
   ],
   "source": [
    "#visualisation of graph\n",
    "\n",
    "nx.draw(G, nodecolor='r',edge_color='b')"
   ]
  },
  {
   "cell_type": "code",
   "execution_count": 10,
   "metadata": {},
   "outputs": [
    {
     "data": {
      "text/plain": [
       "[('Hartsfield Jackson Atlanta Intl', 0.22031849202681694),\n",
       " ('Dallas Fort Worth Intl', 0.12271958858478853),\n",
       " ('Chicago Ohare Intl', 0.11555676002105546),\n",
       " ('Salt Lake City Intl', 0.10608996068786505),\n",
       " ('Detroit Metro Wayne Co', 0.08497860486293175),\n",
       " ('Minneapolis St Paul Intl', 0.0815276825364028),\n",
       " ('Denver Intl', 0.08019813408272976),\n",
       " ('Ted Stevens Anchorage Intl', 0.0591609486666387),\n",
       " ('George Bush Intcntl Houston', 0.05495352119635729),\n",
       " ('Los Angeles Intl', 0.054637807371939524)]"
      ]
     },
     "execution_count": 10,
     "metadata": {},
     "output_type": "execute_result"
    }
   ],
   "source": [
    "#get betweenness_centrality\n",
    "\n",
    "betweenness_centrality = nx.betweenness_centrality(G)\n",
    "betweenness_centrality_counts = Counter(betweenness_centrality)\n",
    "\n",
    "betweenness_centrality_counts.most_common(10)"
   ]
  },
  {
   "cell_type": "code",
   "execution_count": 11,
   "metadata": {},
   "outputs": [
    {
     "data": {
      "text/plain": [
       "[('Hartsfield Jackson Atlanta Intl', 1.1223021582733814),\n",
       " ('Chicago Ohare Intl', 0.9460431654676259),\n",
       " ('Dallas Fort Worth Intl', 0.9064748201438849),\n",
       " ('Detroit Metro Wayne Co', 0.7877697841726619),\n",
       " ('Denver Intl', 0.7841726618705036),\n",
       " ('George Bush Intcntl Houston', 0.7194244604316548),\n",
       " ('Minneapolis St Paul Intl', 0.6762589928057554),\n",
       " ('Salt Lake City Intl', 0.6258992805755396),\n",
       " ('Cincinnati Northern Kentucky Intl', 0.60431654676259),\n",
       " ('Phoenix Sky Harbor Intl', 0.5899280575539568)]"
      ]
     },
     "execution_count": 11,
     "metadata": {},
     "output_type": "execute_result"
    }
   ],
   "source": [
    "#get degree_centrality\n",
    "\n",
    "degree_centrality = nx.degree_centrality(G)\n",
    "degree_centrality_counts = Counter(degree_centrality)\n",
    "\n",
    "degree_centrality_counts.most_common(10)"
   ]
  },
  {
   "cell_type": "code",
   "execution_count": 12,
   "metadata": {},
   "outputs": [
    {
     "data": {
      "text/plain": [
       "[('Hartsfield Jackson Atlanta Intl', 0.6747572815533981),\n",
       " ('Chicago Ohare Intl', 0.6480186480186481),\n",
       " ('Dallas Fort Worth Intl', 0.6289592760180995),\n",
       " ('Denver Intl', 0.6056644880174292),\n",
       " ('Detroit Metro Wayne Co', 0.6056644880174292),\n",
       " ('Minneapolis St Paul Intl', 0.5965665236051502),\n",
       " ('George Bush Intcntl Houston', 0.594017094017094),\n",
       " ('Salt Lake City Intl', 0.587737843551797),\n",
       " ('Phoenix Sky Harbor Intl', 0.5815899581589958),\n",
       " ('Mc Carran Intl', 0.5755693581780539)]"
      ]
     },
     "execution_count": 12,
     "metadata": {},
     "output_type": "execute_result"
    }
   ],
   "source": [
    "#get closeness_centrality\n",
    "\n",
    "closeness_centrality = nx.closeness_centrality(G)\n",
    "closeness_centrality_counts = Counter(closeness_centrality)\n",
    "\n",
    "closeness_centrality_counts.most_common(10)"
   ]
  },
  {
   "cell_type": "code",
   "execution_count": null,
   "metadata": {},
   "outputs": [],
   "source": []
  }
 ],
 "metadata": {
  "kernelspec": {
   "display_name": "Python 3",
   "language": "python",
   "name": "python3"
  },
  "language_info": {
   "codemirror_mode": {
    "name": "ipython",
    "version": 3
   },
   "file_extension": ".py",
   "mimetype": "text/x-python",
   "name": "python",
   "nbconvert_exporter": "python",
   "pygments_lexer": "ipython3",
   "version": "3.7.6"
  },
  "toc": {
   "base_numbering": 1,
   "nav_menu": {},
   "number_sections": false,
   "sideBar": false,
   "skip_h1_title": false,
   "title_cell": "Table of Contents",
   "title_sidebar": "Contents",
   "toc_cell": false,
   "toc_position": {},
   "toc_section_display": false,
   "toc_window_display": false
  }
 },
 "nbformat": 4,
 "nbformat_minor": 4
}
